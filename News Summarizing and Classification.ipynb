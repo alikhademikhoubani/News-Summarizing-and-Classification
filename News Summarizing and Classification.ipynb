{
 "cells": [
  {
   "cell_type": "code",
   "execution_count": 125,
   "id": "66177f09",
   "metadata": {},
   "outputs": [],
   "source": [
    "import pandas as pd\n",
    "import numpy as np\n",
    "import matplotlib.pyplot as plt\n",
    "import re\n",
    "import seaborn as sns\n",
    "from nltk.corpus import stopwords\n",
    "from nltk.stem import WordNetLemmatizer\n",
    "from collections import Counter\n",
    "import spacy\n",
    "from heapq import nlargest\n",
    "from tensorflow.keras.preprocessing.text import Tokenizer\n",
    "from keras.preprocessing.sequence import pad_sequences\n",
    "from sklearn.model_selection import train_test_split\n",
    "from sklearn.preprocessing import LabelEncoder\n",
    "from keras.callbacks import EarlyStopping\n",
    "from keras.initializers import Constant\n",
    "from keras.models import Sequential\n",
    "from keras.layers import Embedding, Bidirectional, LSTM, Dense, Dropout, Conv1D, MaxPooling1D\n",
    "from sklearn.metrics import classification_report, confusion_matrix\n",
    "sns.set()"
   ]
  },
  {
   "cell_type": "code",
   "execution_count": 2,
   "id": "c80b1fea",
   "metadata": {},
   "outputs": [
    {
     "data": {
      "text/html": [
       "<div>\n",
       "<style scoped>\n",
       "    .dataframe tbody tr th:only-of-type {\n",
       "        vertical-align: middle;\n",
       "    }\n",
       "\n",
       "    .dataframe tbody tr th {\n",
       "        vertical-align: top;\n",
       "    }\n",
       "\n",
       "    .dataframe thead th {\n",
       "        text-align: right;\n",
       "    }\n",
       "</style>\n",
       "<table border=\"1\" class=\"dataframe\">\n",
       "  <thead>\n",
       "    <tr style=\"text-align: right;\">\n",
       "      <th></th>\n",
       "      <th>Unnamed: 0</th>\n",
       "      <th>Title</th>\n",
       "      <th>Description</th>\n",
       "      <th>Body</th>\n",
       "      <th>Keywords</th>\n",
       "      <th>Theme</th>\n",
       "      <th>Link</th>\n",
       "    </tr>\n",
       "  </thead>\n",
       "  <tbody>\n",
       "    <tr>\n",
       "      <th>0</th>\n",
       "      <td>1</td>\n",
       "      <td>Candy factory didn't evacuate concerned worker...</td>\n",
       "      <td>An eastern Pennsylvania candy factory didn’t e...</td>\n",
       "      <td>An eastern Pennsylvania candy factory didn’t e...</td>\n",
       "      <td>accident investigations, accidents, accidents,...</td>\n",
       "      <td>us</td>\n",
       "      <td>https://edition.cnn.com/2023/10/06/us/pennsylv...</td>\n",
       "    </tr>\n",
       "    <tr>\n",
       "      <th>1</th>\n",
       "      <td>2</td>\n",
       "      <td>Baltimore police ask for public's help identif...</td>\n",
       "      <td>Two shooters were involved in an attack at Mor...</td>\n",
       "      <td>Two shooters were involved in an attack at Mor...</td>\n",
       "      <td>baltimore, brand safety-nsf crime, brand safet...</td>\n",
       "      <td>us</td>\n",
       "      <td>https://edition.cnn.com/2023/10/06/us/morgan-s...</td>\n",
       "    </tr>\n",
       "    <tr>\n",
       "      <th>2</th>\n",
       "      <td>3</td>\n",
       "      <td>An arrest warrant has been issued for a suspec...</td>\n",
       "      <td>Authorities in Pennsylvania say they have issu...</td>\n",
       "      <td>Authorities in Pennsylvania say they have issu...</td>\n",
       "      <td>arrest warrants, arrests, brand safety-nsf cri...</td>\n",
       "      <td>us</td>\n",
       "      <td>https://edition.cnn.com/2023/10/06/us/josh-kru...</td>\n",
       "    </tr>\n",
       "    <tr>\n",
       "      <th>3</th>\n",
       "      <td>4</td>\n",
       "      <td>115 improperly stored human remains found in C...</td>\n",
       "      <td>An investigation into more than 115 bodies fou...</td>\n",
       "      <td>An investigation into more than 115 bodies fou...</td>\n",
       "      <td>brand safety-nsf death, brand safety-nsf sensi...</td>\n",
       "      <td>us</td>\n",
       "      <td>https://edition.cnn.com/2023/10/06/us/colorado...</td>\n",
       "    </tr>\n",
       "    <tr>\n",
       "      <th>4</th>\n",
       "      <td>5</td>\n",
       "      <td>Bronx day care provider and 2 others indicted ...</td>\n",
       "      <td>A Bronx day care provider, her husband and his...</td>\n",
       "      <td>A Bronx day care provider, her husband and his...</td>\n",
       "      <td>brand safety-nsf crime, brand safety-nsf death...</td>\n",
       "      <td>us</td>\n",
       "      <td>https://edition.cnn.com/2023/10/05/us/bronx-da...</td>\n",
       "    </tr>\n",
       "  </tbody>\n",
       "</table>\n",
       "</div>"
      ],
      "text/plain": [
       "   Unnamed: 0                                              Title  \\\n",
       "0           1  Candy factory didn't evacuate concerned worker...   \n",
       "1           2  Baltimore police ask for public's help identif...   \n",
       "2           3  An arrest warrant has been issued for a suspec...   \n",
       "3           4  115 improperly stored human remains found in C...   \n",
       "4           5  Bronx day care provider and 2 others indicted ...   \n",
       "\n",
       "                                         Description  \\\n",
       "0  An eastern Pennsylvania candy factory didn’t e...   \n",
       "1  Two shooters were involved in an attack at Mor...   \n",
       "2  Authorities in Pennsylvania say they have issu...   \n",
       "3  An investigation into more than 115 bodies fou...   \n",
       "4  A Bronx day care provider, her husband and his...   \n",
       "\n",
       "                                                Body  \\\n",
       "0  An eastern Pennsylvania candy factory didn’t e...   \n",
       "1  Two shooters were involved in an attack at Mor...   \n",
       "2  Authorities in Pennsylvania say they have issu...   \n",
       "3  An investigation into more than 115 bodies fou...   \n",
       "4  A Bronx day care provider, her husband and his...   \n",
       "\n",
       "                                            Keywords Theme  \\\n",
       "0  accident investigations, accidents, accidents,...    us   \n",
       "1  baltimore, brand safety-nsf crime, brand safet...    us   \n",
       "2  arrest warrants, arrests, brand safety-nsf cri...    us   \n",
       "3  brand safety-nsf death, brand safety-nsf sensi...    us   \n",
       "4  brand safety-nsf crime, brand safety-nsf death...    us   \n",
       "\n",
       "                                                Link  \n",
       "0  https://edition.cnn.com/2023/10/06/us/pennsylv...  \n",
       "1  https://edition.cnn.com/2023/10/06/us/morgan-s...  \n",
       "2  https://edition.cnn.com/2023/10/06/us/josh-kru...  \n",
       "3  https://edition.cnn.com/2023/10/06/us/colorado...  \n",
       "4  https://edition.cnn.com/2023/10/05/us/bronx-da...  "
      ]
     },
     "execution_count": 2,
     "metadata": {},
     "output_type": "execute_result"
    }
   ],
   "source": [
    "df = pd.read_csv('News3.csv')\n",
    "df.head()"
   ]
  },
  {
   "cell_type": "code",
   "execution_count": 3,
   "id": "58c84eb2",
   "metadata": {},
   "outputs": [],
   "source": [
    "data = df.copy()"
   ]
  },
  {
   "cell_type": "code",
   "execution_count": 4,
   "id": "aeabe413",
   "metadata": {},
   "outputs": [
    {
     "data": {
      "text/html": [
       "<div>\n",
       "<style scoped>\n",
       "    .dataframe tbody tr th:only-of-type {\n",
       "        vertical-align: middle;\n",
       "    }\n",
       "\n",
       "    .dataframe tbody tr th {\n",
       "        vertical-align: top;\n",
       "    }\n",
       "\n",
       "    .dataframe thead th {\n",
       "        text-align: right;\n",
       "    }\n",
       "</style>\n",
       "<table border=\"1\" class=\"dataframe\">\n",
       "  <thead>\n",
       "    <tr style=\"text-align: right;\">\n",
       "      <th></th>\n",
       "      <th>Body</th>\n",
       "      <th>Theme</th>\n",
       "    </tr>\n",
       "  </thead>\n",
       "  <tbody>\n",
       "    <tr>\n",
       "      <th>0</th>\n",
       "      <td>An eastern Pennsylvania candy factory didn’t e...</td>\n",
       "      <td>us</td>\n",
       "    </tr>\n",
       "    <tr>\n",
       "      <th>1</th>\n",
       "      <td>Two shooters were involved in an attack at Mor...</td>\n",
       "      <td>us</td>\n",
       "    </tr>\n",
       "    <tr>\n",
       "      <th>2</th>\n",
       "      <td>Authorities in Pennsylvania say they have issu...</td>\n",
       "      <td>us</td>\n",
       "    </tr>\n",
       "    <tr>\n",
       "      <th>3</th>\n",
       "      <td>An investigation into more than 115 bodies fou...</td>\n",
       "      <td>us</td>\n",
       "    </tr>\n",
       "    <tr>\n",
       "      <th>4</th>\n",
       "      <td>A Bronx day care provider, her husband and his...</td>\n",
       "      <td>us</td>\n",
       "    </tr>\n",
       "  </tbody>\n",
       "</table>\n",
       "</div>"
      ],
      "text/plain": [
       "                                                Body Theme\n",
       "0  An eastern Pennsylvania candy factory didn’t e...    us\n",
       "1  Two shooters were involved in an attack at Mor...    us\n",
       "2  Authorities in Pennsylvania say they have issu...    us\n",
       "3  An investigation into more than 115 bodies fou...    us\n",
       "4  A Bronx day care provider, her husband and his...    us"
      ]
     },
     "execution_count": 4,
     "metadata": {},
     "output_type": "execute_result"
    }
   ],
   "source": [
    "data = data[['Body', 'Theme']]\n",
    "data.head()"
   ]
  },
  {
   "cell_type": "code",
   "execution_count": 5,
   "id": "69e6e1b6",
   "metadata": {},
   "outputs": [
    {
     "data": {
      "text/plain": [
       "(3928, 2)"
      ]
     },
     "execution_count": 5,
     "metadata": {},
     "output_type": "execute_result"
    }
   ],
   "source": [
    "data.shape"
   ]
  },
  {
   "cell_type": "code",
   "execution_count": 6,
   "id": "f17f9f5e",
   "metadata": {},
   "outputs": [
    {
     "name": "stdout",
     "output_type": "stream",
     "text": [
      "<class 'pandas.core.frame.DataFrame'>\n",
      "RangeIndex: 3928 entries, 0 to 3927\n",
      "Data columns (total 2 columns):\n",
      " #   Column  Non-Null Count  Dtype \n",
      "---  ------  --------------  ----- \n",
      " 0   Body    3928 non-null   object\n",
      " 1   Theme   3928 non-null   object\n",
      "dtypes: object(2)\n",
      "memory usage: 61.5+ KB\n"
     ]
    }
   ],
   "source": [
    "data.info()"
   ]
  },
  {
   "cell_type": "code",
   "execution_count": 7,
   "id": "90229a19",
   "metadata": {},
   "outputs": [
    {
     "data": {
      "text/plain": [
       "Body     0\n",
       "Theme    0\n",
       "dtype: int64"
      ]
     },
     "execution_count": 7,
     "metadata": {},
     "output_type": "execute_result"
    }
   ],
   "source": [
    "data.isnull().sum()"
   ]
  },
  {
   "cell_type": "code",
   "execution_count": 8,
   "id": "8c129590",
   "metadata": {},
   "outputs": [
    {
     "data": {
      "text/plain": [
       "Theme\n",
       "business         921\n",
       "world            820\n",
       "politics         565\n",
       "health           480\n",
       "us               317\n",
       "opinions         280\n",
       "sport            247\n",
       "entertainment    144\n",
       "weather          115\n",
       "style             15\n",
       "travel            13\n",
       "cnn               11\n",
       "Name: count, dtype: int64"
      ]
     },
     "execution_count": 8,
     "metadata": {},
     "output_type": "execute_result"
    }
   ],
   "source": [
    "data['Theme'].value_counts()"
   ]
  },
  {
   "cell_type": "code",
   "execution_count": 11,
   "id": "d3b27133",
   "metadata": {},
   "outputs": [
    {
     "data": {
      "image/png": "[encoded data removed]",
      "text/plain": [
       "<Figure size 648x504 with 1 Axes>"
      ]
     },
     "metadata": {
      "needs_background": "light"
     },
     "output_type": "display_data"
    }
   ],
   "source": [
    "data['Theme'].value_counts().plot(kind = 'bar', figsize = (9, 7))\n",
    "plt.ylabel('Count', fontsize = 15)\n",
    "plt.show()"
   ]
  },
  {
   "cell_type": "code",
   "execution_count": 14,
   "id": "f90766c9",
   "metadata": {},
   "outputs": [],
   "source": [
    "sw = stopwords.words('english')\n",
    "lemmatizer = WordNetLemmatizer()"
   ]
  },
  {
   "cell_type": "code",
   "execution_count": 17,
   "id": "84797139",
   "metadata": {},
   "outputs": [],
   "source": [
    "nlp = spacy.load('en_core_web_sm')"
   ]
  },
  {
   "cell_type": "code",
   "execution_count": 55,
   "id": "4de75c94",
   "metadata": {},
   "outputs": [],
   "source": [
    "def text_summarizing(text, num_sentences):\n",
    "    doc = nlp(text)\n",
    "    text = text.lower()\n",
    "    text = re.sub('[^a-z.]', ' ', text)\n",
    "    text = re.sub('\\s+[a-z]\\s+', ' ', text)\n",
    "    text = re.sub('\\s+', ' ', text)\n",
    "    words = [word for word in text.split() if word not in sw]\n",
    "    words = [lemmatizer.lemmatize(word) for word in words]\n",
    "    word_freq = Counter(words)\n",
    "    word_freq_max = max(word_freq.values())\n",
    "    for word, freq in word_freq.items():\n",
    "        word_freq[word] = freq / word_freq_max\n",
    "    sen_freq = dict()\n",
    "    sentences = [sent.text for sent in doc.sents]\n",
    "    for sen in sentences:\n",
    "        for token in sen.split():\n",
    "            if token in word_freq.keys():\n",
    "                if sen not in sen_freq.keys():\n",
    "                    sen_freq[sen] = word_freq[token]\n",
    "                else:\n",
    "                    sen_freq[sen] += word_freq[token]\n",
    "    n = nlargest(num_sentences, sen_freq, key = sen_freq.get)\n",
    "    p = []\n",
    "    for i in sentences:\n",
    "        for j in n:\n",
    "            if i == j:\n",
    "                p.append(i)\n",
    "    return ' '.join(p)"
   ]
  },
  {
   "cell_type": "code",
   "execution_count": 56,
   "id": "b27304e6",
   "metadata": {},
   "outputs": [
    {
     "data": {
      "text/plain": [
       "'An eastern Pennsylvania candy factory didn’t evacuate its employees – even as some said they smelled gas – before an explosion in March that left seven people dead and nearly a dozen others injured, the US Department of Labor announced.  R.M. Palmer, a Pennsylvania-based candy maker, was cited for failing to evacuate its workers during a natural gas leak, not having a clearly marked exit sign on one of its doors and for using spliced flexible cords at its West Reading manufacturing plant, according to a citation from the department’s Occupational Safety and Health Administration (OSHA). “Seven workers will never return home because the R.M. Palmer Co. did not evacuate the facility after being told of a suspected gas leak,” OSHA Area Director Kevin T. Chambers said in a Thursday news release. “Ensuring the safety of a workplace is expected of employers and required by law. The company could have prevented this horrific tragedy by following required safety procedures.”     The explosion erupted shortly before 5 p.m. on March 24, leveling the R.M. Palmer Co. facility and stunning West Reading – a community of about 4,500 people that has been home to the chocolatier’s operation for more than six decades. The company is known for manufacturing seasonal chocolate novelties, like Easter chocolate bunnies. Those killed were identified as Amy Sandoe, 49, of Ephrata; Domingo Cruz, 60, Reading; Xiorky D. Nunez, 30, of Reading; Susan H. Halvonik, 63, Upper Providence Township; Michael D Breedy, 62, Marion Township; Diana M. Cedeno, 44, of Reading; and Judith Lopez-Moran, 55, of Reading. Eleven others were hospitalized after the explosion.  After the blast, an investigation by the National Transportation Safety Board (NTSB) found natural gas had been leaking from a service tee, installed in 1982, with a crack at the top. Investigators also found a second, smaller leak in a new service line installed in 2021, the NTSB said in a July update.  R.M. Palmer said while it is still mourning the deaths of its employees who died in the explosion, the company “does not agree that it has violated any provision of OSHA’s workplace standards” and believes OSHA’s statement about the citations was “inflammatory, callous, and irresponsible,” it said in two statements to CNN. The company added the July NTSB update does not explicitly say the two gas leaks were inside any R.M. Palmer buildings, as they were located under a public street. “Until the NTSB’s investigation is complete, there is simply no basis to evaluate OSHA’s statement that an evacuation would have prevented the seven tragic deaths that occurred,” R.M. Palmer said. The candy maker said it has already contested the proposed penalties and citations, which total $44,483. R.M. Palmer, founded in 1948, employs about 850 people throughout North America.'"
      ]
     },
     "execution_count": 56,
     "metadata": {},
     "output_type": "execute_result"
    }
   ],
   "source": [
    "data['Body'][0]"
   ]
  },
  {
   "cell_type": "code",
   "execution_count": 57,
   "id": "84ddedcb",
   "metadata": {},
   "outputs": [
    {
     "data": {
      "text/plain": [
       "'Two shooters were involved in an attack at Morgan State University in Baltimore outside a crowded homecoming event this week, injuring five people, authorities confirmed Friday. The Baltimore Police Department is asking for the public’s help in identifying four people seen walking near the scene of the Tuesday evening attack captured on video and still photos released by the agency on Friday. Anyone with information leading to an arrest and charges filed will receive a $9,000 reward, commissioner Richard Worley said during a Friday news conference. The victims – four men and one woman, ages 18 to 22 – were taken to a hospital with non-life-threatening injuries. Four are students, Morgan State University Police Chief Lance Hatcher said. As of Friday morning, four of the five victims have been released from the hospital and one remains hospitalized in stable condition, Worley said. The police department was able to confirm two shooters were involved in the incident from ballistic evidence and assistance from its federal partners, including the FBI and the Bureau of Alcohol, Tobacco, Firearms and Explosives, according to Worley. Detectives continue to review a “huge amount of video footage” and speak to potential witnesses as part of the investigation, he said.  City and university police have increased safety patrols throughout and around the campus, Worley added. During Friday’s news conference, Baltimore Mayor Brandon Scott issued a stark reminder to those who are possibly becoming callous toward gun violence as it becomes more commonplace on campuses across the country. “I want to be very clear about something else: that we will not let the cowardly, reckless, dark action of a few overtake the bright light of Black excellence that Morgan State University has been, is, and will continue to be for Baltimore and the world. We won’t allow that to happen,” Scott said. The nightmare unfolded as a popular homecoming week event was letting out – a violent disruption marking one of at least 531 mass shootings with at least four victims so far this year in the United States, according to the Gun Violence Archive, and one of at least 17 shootings this year at a US college or university, including in North Carolina, Oklahoma and Michigan. Students and teachers were ordered to shelter in place for hours as a SWAT team combed the campus dormitories. Before the shooting unfolded, Murphy Fine Arts auditorium had been filled almost to capacity Tuesday evening for the crowning of Mr. and Miss Morgan State University. The event draws families from all over the country, Wilson said, to the school where 9,000 students enrolled last fall. The mayor has said he does not believe the shooting was racially motivated, noting the investigation is ongoing. At Morgan State, all classes and activities were canceled for the rest of the week, school president David Wilson wrote in a Wednesday update. And all activities around homecoming will be either canceled or postponed – the first time in history the university has taken such action – until the suspects are found “and brought to justice,” Wilson said. Wilson said during Friday’s news conference he spoke with all four students who were injured in the shooting, all of whom remain in “good, physical condition” and experienced “tremendous trauma.” “They were excited to hear from their university president and I pledged to them that this university will immediately provide one-on-one counseling to each of them,” he said.'"
      ]
     },
     "execution_count": 57,
     "metadata": {},
     "output_type": "execute_result"
    }
   ],
   "source": [
    "data['Body'][1]"
   ]
  },
  {
   "cell_type": "code",
   "execution_count": 58,
   "id": "44ee6ff2",
   "metadata": {},
   "outputs": [],
   "source": [
    "data['text_summarized'] = data['Body'].apply(lambda x: text_summarizing(x, num_sentences = 3))"
   ]
  },
  {
   "cell_type": "code",
   "execution_count": 59,
   "id": "62d991ff",
   "metadata": {},
   "outputs": [
    {
     "data": {
      "text/html": [
       "<div>\n",
       "<style scoped>\n",
       "    .dataframe tbody tr th:only-of-type {\n",
       "        vertical-align: middle;\n",
       "    }\n",
       "\n",
       "    .dataframe tbody tr th {\n",
       "        vertical-align: top;\n",
       "    }\n",
       "\n",
       "    .dataframe thead th {\n",
       "        text-align: right;\n",
       "    }\n",
       "</style>\n",
       "<table border=\"1\" class=\"dataframe\">\n",
       "  <thead>\n",
       "    <tr style=\"text-align: right;\">\n",
       "      <th></th>\n",
       "      <th>Body</th>\n",
       "      <th>Theme</th>\n",
       "      <th>text_summarized</th>\n",
       "    </tr>\n",
       "  </thead>\n",
       "  <tbody>\n",
       "    <tr>\n",
       "      <th>0</th>\n",
       "      <td>An eastern Pennsylvania candy factory didn’t e...</td>\n",
       "      <td>us</td>\n",
       "      <td>An eastern Pennsylvania candy factory didn’t e...</td>\n",
       "    </tr>\n",
       "    <tr>\n",
       "      <th>1</th>\n",
       "      <td>Two shooters were involved in an attack at Mor...</td>\n",
       "      <td>us</td>\n",
       "      <td>The nightmare unfolded as a popular homecoming...</td>\n",
       "    </tr>\n",
       "    <tr>\n",
       "      <th>2</th>\n",
       "      <td>Authorities in Pennsylvania say they have issu...</td>\n",
       "      <td>us</td>\n",
       "      <td>The suspect is identified as Robert Davis, 19,...</td>\n",
       "    </tr>\n",
       "    <tr>\n",
       "      <th>3</th>\n",
       "      <td>An investigation into more than 115 bodies fou...</td>\n",
       "      <td>us</td>\n",
       "      <td>An investigation into more than 115 bodies fou...</td>\n",
       "    </tr>\n",
       "    <tr>\n",
       "      <th>4</th>\n",
       "      <td>A Bronx day care provider, her husband and his...</td>\n",
       "      <td>us</td>\n",
       "      <td>A Bronx day care provider, her husband and his...</td>\n",
       "    </tr>\n",
       "  </tbody>\n",
       "</table>\n",
       "</div>"
      ],
      "text/plain": [
       "                                                Body Theme  \\\n",
       "0  An eastern Pennsylvania candy factory didn’t e...    us   \n",
       "1  Two shooters were involved in an attack at Mor...    us   \n",
       "2  Authorities in Pennsylvania say they have issu...    us   \n",
       "3  An investigation into more than 115 bodies fou...    us   \n",
       "4  A Bronx day care provider, her husband and his...    us   \n",
       "\n",
       "                                     text_summarized  \n",
       "0  An eastern Pennsylvania candy factory didn’t e...  \n",
       "1  The nightmare unfolded as a popular homecoming...  \n",
       "2  The suspect is identified as Robert Davis, 19,...  \n",
       "3  An investigation into more than 115 bodies fou...  \n",
       "4  A Bronx day care provider, her husband and his...  "
      ]
     },
     "execution_count": 59,
     "metadata": {},
     "output_type": "execute_result"
    }
   ],
   "source": [
    "data.head()"
   ]
  },
  {
   "cell_type": "code",
   "execution_count": 60,
   "id": "bbf5b7d8",
   "metadata": {},
   "outputs": [
    {
     "data": {
      "text/plain": [
       "'An eastern Pennsylvania candy factory didn’t evacuate its employees – even as some said they smelled gas – before an explosion in March that left seven people dead and nearly a dozen others injured, the US Department of Labor announced.  R.M. Palmer, a Pennsylvania-based candy maker, was cited for failing to evacuate its workers during a natural gas leak, not having a clearly marked exit sign on one of its doors and for using spliced flexible cords at its West Reading manufacturing plant, according to a citation from the department’s Occupational Safety and Health Administration (OSHA). “Seven workers will never return home because the R.M. Palmer Co. did not evacuate the facility after being told of a suspected gas leak,” OSHA Area Director Kevin T. Chambers said in a Thursday news release. “Ensuring the safety of a workplace is expected of employers and required by law. The company could have prevented this horrific tragedy by following required safety procedures.”     The explosion erupted shortly before 5 p.m. on March 24, leveling the R.M. Palmer Co. facility and stunning West Reading – a community of about 4,500 people that has been home to the chocolatier’s operation for more than six decades. The company is known for manufacturing seasonal chocolate novelties, like Easter chocolate bunnies. Those killed were identified as Amy Sandoe, 49, of Ephrata; Domingo Cruz, 60, Reading; Xiorky D. Nunez, 30, of Reading; Susan H. Halvonik, 63, Upper Providence Township; Michael D Breedy, 62, Marion Township; Diana M. Cedeno, 44, of Reading; and Judith Lopez-Moran, 55, of Reading. Eleven others were hospitalized after the explosion.  After the blast, an investigation by the National Transportation Safety Board (NTSB) found natural gas had been leaking from a service tee, installed in 1982, with a crack at the top. Investigators also found a second, smaller leak in a new service line installed in 2021, the NTSB said in a July update.  R.M. Palmer said while it is still mourning the deaths of its employees who died in the explosion, the company “does not agree that it has violated any provision of OSHA’s workplace standards” and believes OSHA’s statement about the citations was “inflammatory, callous, and irresponsible,” it said in two statements to CNN. The company added the July NTSB update does not explicitly say the two gas leaks were inside any R.M. Palmer buildings, as they were located under a public street. “Until the NTSB’s investigation is complete, there is simply no basis to evaluate OSHA’s statement that an evacuation would have prevented the seven tragic deaths that occurred,” R.M. Palmer said. The candy maker said it has already contested the proposed penalties and citations, which total $44,483. R.M. Palmer, founded in 1948, employs about 850 people throughout North America.'"
      ]
     },
     "execution_count": 60,
     "metadata": {},
     "output_type": "execute_result"
    }
   ],
   "source": [
    "data['Body'][0]"
   ]
  },
  {
   "cell_type": "code",
   "execution_count": 61,
   "id": "efd03eb6",
   "metadata": {},
   "outputs": [
    {
     "data": {
      "text/plain": [
       "'An eastern Pennsylvania candy factory didn’t evacuate its employees – even as some said they smelled gas – before an explosion in March that left seven people dead and nearly a dozen others injured, the US Department of Labor announced.   R.M. Palmer, a Pennsylvania-based candy maker, was cited for failing to evacuate its workers during a natural gas leak, not having a clearly marked exit sign on one of its doors and for using spliced flexible cords at its West Reading manufacturing plant, according to a citation from the department’s Occupational Safety and Health Administration (OSHA). R.M. Palmer said while it is still mourning the deaths of its employees who died in the explosion, the company “does not agree that it has violated any provision of OSHA’s workplace standards” and believes OSHA’s statement about the citations was “inflammatory, callous, and irresponsible,” it said in two statements to CNN.'"
      ]
     },
     "execution_count": 61,
     "metadata": {},
     "output_type": "execute_result"
    }
   ],
   "source": [
    "data['text_summarized'][0]"
   ]
  },
  {
   "cell_type": "code",
   "execution_count": 62,
   "id": "a5bce638",
   "metadata": {},
   "outputs": [
    {
     "data": {
      "text/plain": [
       "'Two shooters were involved in an attack at Morgan State University in Baltimore outside a crowded homecoming event this week, injuring five people, authorities confirmed Friday. The Baltimore Police Department is asking for the public’s help in identifying four people seen walking near the scene of the Tuesday evening attack captured on video and still photos released by the agency on Friday. Anyone with information leading to an arrest and charges filed will receive a $9,000 reward, commissioner Richard Worley said during a Friday news conference. The victims – four men and one woman, ages 18 to 22 – were taken to a hospital with non-life-threatening injuries. Four are students, Morgan State University Police Chief Lance Hatcher said. As of Friday morning, four of the five victims have been released from the hospital and one remains hospitalized in stable condition, Worley said. The police department was able to confirm two shooters were involved in the incident from ballistic evidence and assistance from its federal partners, including the FBI and the Bureau of Alcohol, Tobacco, Firearms and Explosives, according to Worley. Detectives continue to review a “huge amount of video footage” and speak to potential witnesses as part of the investigation, he said.  City and university police have increased safety patrols throughout and around the campus, Worley added. During Friday’s news conference, Baltimore Mayor Brandon Scott issued a stark reminder to those who are possibly becoming callous toward gun violence as it becomes more commonplace on campuses across the country. “I want to be very clear about something else: that we will not let the cowardly, reckless, dark action of a few overtake the bright light of Black excellence that Morgan State University has been, is, and will continue to be for Baltimore and the world. We won’t allow that to happen,” Scott said. The nightmare unfolded as a popular homecoming week event was letting out – a violent disruption marking one of at least 531 mass shootings with at least four victims so far this year in the United States, according to the Gun Violence Archive, and one of at least 17 shootings this year at a US college or university, including in North Carolina, Oklahoma and Michigan. Students and teachers were ordered to shelter in place for hours as a SWAT team combed the campus dormitories. Before the shooting unfolded, Murphy Fine Arts auditorium had been filled almost to capacity Tuesday evening for the crowning of Mr. and Miss Morgan State University. The event draws families from all over the country, Wilson said, to the school where 9,000 students enrolled last fall. The mayor has said he does not believe the shooting was racially motivated, noting the investigation is ongoing. At Morgan State, all classes and activities were canceled for the rest of the week, school president David Wilson wrote in a Wednesday update. And all activities around homecoming will be either canceled or postponed – the first time in history the university has taken such action – until the suspects are found “and brought to justice,” Wilson said. Wilson said during Friday’s news conference he spoke with all four students who were injured in the shooting, all of whom remain in “good, physical condition” and experienced “tremendous trauma.” “They were excited to hear from their university president and I pledged to them that this university will immediately provide one-on-one counseling to each of them,” he said.'"
      ]
     },
     "execution_count": 62,
     "metadata": {},
     "output_type": "execute_result"
    }
   ],
   "source": [
    "data['Body'][1]"
   ]
  },
  {
   "cell_type": "code",
   "execution_count": 63,
   "id": "d85a353e",
   "metadata": {},
   "outputs": [
    {
     "data": {
      "text/plain": [
       "'The nightmare unfolded as a popular homecoming week event was letting out – a violent disruption marking one of at least 531 mass shootings with at least four victims so far this year in the United States, according to the Gun Violence Archive, and one of at least 17 shootings this year at a US college or university, including in North Carolina, Oklahoma and Michigan. And all activities around homecoming will be either canceled or postponed – the first time in history the university has taken such action – until the suspects are found “and brought to justice,” Wilson said. “They were excited to hear from their university president and I pledged to them that this university will immediately provide one-on-one counseling to each of them,” he said.'"
      ]
     },
     "execution_count": 63,
     "metadata": {},
     "output_type": "execute_result"
    }
   ],
   "source": [
    "data['text_summarized'][1]"
   ]
  },
  {
   "cell_type": "code",
   "execution_count": 68,
   "id": "ca04da26",
   "metadata": {},
   "outputs": [],
   "source": [
    "df_pol = data[data['Theme'] == 'politics']\n",
    "df_wor = data[data['Theme'] == 'world'].sample(df_pol.shape[0])\n",
    "df_bus = data[data['Theme'] == 'business'].sample(df_pol.shape[0])"
   ]
  },
  {
   "cell_type": "code",
   "execution_count": 69,
   "id": "37d5d0a9",
   "metadata": {},
   "outputs": [],
   "source": [
    "df_balanced = pd.concat([df_pol, df_wor, df_bus])"
   ]
  },
  {
   "cell_type": "code",
   "execution_count": 70,
   "id": "ec950569",
   "metadata": {},
   "outputs": [
    {
     "data": {
      "text/html": [
       "<div>\n",
       "<style scoped>\n",
       "    .dataframe tbody tr th:only-of-type {\n",
       "        vertical-align: middle;\n",
       "    }\n",
       "\n",
       "    .dataframe tbody tr th {\n",
       "        vertical-align: top;\n",
       "    }\n",
       "\n",
       "    .dataframe thead th {\n",
       "        text-align: right;\n",
       "    }\n",
       "</style>\n",
       "<table border=\"1\" class=\"dataframe\">\n",
       "  <thead>\n",
       "    <tr style=\"text-align: right;\">\n",
       "      <th></th>\n",
       "      <th>Body</th>\n",
       "      <th>Theme</th>\n",
       "      <th>text_summarized</th>\n",
       "    </tr>\n",
       "  </thead>\n",
       "  <tbody>\n",
       "    <tr>\n",
       "      <th>17</th>\n",
       "      <td>A New York appeals court judge on Friday rejec...</td>\n",
       "      <td>politics</td>\n",
       "      <td>Trump’s legal team believes the appellate cour...</td>\n",
       "    </tr>\n",
       "    <tr>\n",
       "      <th>18</th>\n",
       "      <td>President Joe Biden on Friday acknowledged he’...</td>\n",
       "      <td>politics</td>\n",
       "      <td>Biden this week used his White House appearanc...</td>\n",
       "    </tr>\n",
       "    <tr>\n",
       "      <th>19</th>\n",
       "      <td>Former House Speaker Kevin McCarthy is denying...</td>\n",
       "      <td>politics</td>\n",
       "      <td>Former House Speaker Kevin McCarthy is denying...</td>\n",
       "    </tr>\n",
       "    <tr>\n",
       "      <th>20</th>\n",
       "      <td>A former US Army sergeant who allegedly lived ...</td>\n",
       "      <td>politics</td>\n",
       "      <td>A former US Army sergeant who allegedly lived ...</td>\n",
       "    </tr>\n",
       "    <tr>\n",
       "      <th>87</th>\n",
       "      <td>Supreme Court Justice Samuel Alito on Friday f...</td>\n",
       "      <td>politics</td>\n",
       "      <td>Supreme Court Justice Samuel Alito on Friday f...</td>\n",
       "    </tr>\n",
       "  </tbody>\n",
       "</table>\n",
       "</div>"
      ],
      "text/plain": [
       "                                                 Body     Theme  \\\n",
       "17  A New York appeals court judge on Friday rejec...  politics   \n",
       "18  President Joe Biden on Friday acknowledged he’...  politics   \n",
       "19  Former House Speaker Kevin McCarthy is denying...  politics   \n",
       "20  A former US Army sergeant who allegedly lived ...  politics   \n",
       "87  Supreme Court Justice Samuel Alito on Friday f...  politics   \n",
       "\n",
       "                                      text_summarized  \n",
       "17  Trump’s legal team believes the appellate cour...  \n",
       "18  Biden this week used his White House appearanc...  \n",
       "19  Former House Speaker Kevin McCarthy is denying...  \n",
       "20  A former US Army sergeant who allegedly lived ...  \n",
       "87  Supreme Court Justice Samuel Alito on Friday f...  "
      ]
     },
     "execution_count": 70,
     "metadata": {},
     "output_type": "execute_result"
    }
   ],
   "source": [
    "df_balanced.head()"
   ]
  },
  {
   "cell_type": "code",
   "execution_count": 71,
   "id": "6be14dd8",
   "metadata": {},
   "outputs": [
    {
     "data": {
      "image/png": "[encoded data removed]",
      "text/plain": [
       "<Figure size 648x504 with 1 Axes>"
      ]
     },
     "metadata": {},
     "output_type": "display_data"
    }
   ],
   "source": [
    "df_balanced['Theme'].value_counts().plot(kind = 'bar', figsize = (9, 7))\n",
    "plt.ylabel('Count', fontsize = 15)\n",
    "plt.show()"
   ]
  },
  {
   "cell_type": "code",
   "execution_count": 72,
   "id": "8d235e02",
   "metadata": {},
   "outputs": [
    {
     "data": {
      "text/plain": [
       "(1695, 3)"
      ]
     },
     "execution_count": 72,
     "metadata": {},
     "output_type": "execute_result"
    }
   ],
   "source": [
    "df_balanced.shape"
   ]
  },
  {
   "cell_type": "code",
   "execution_count": 77,
   "id": "97830b08",
   "metadata": {},
   "outputs": [],
   "source": [
    "def text_cleaning(text):\n",
    "    text = text.lower()\n",
    "    text = re.sub('[^a-z]', ' ', text)\n",
    "    text = re.sub('\\s+[a-z]\\s+', ' ', text)\n",
    "    text = re.sub('\\s+', ' ', text)\n",
    "    words = [word for word in text.split() if word not in sw]\n",
    "    words = [lemmatizer.lemmatize(word) for word in words]\n",
    "    return ' '.join(words)"
   ]
  },
  {
   "cell_type": "code",
   "execution_count": 78,
   "id": "48cebb5d",
   "metadata": {},
   "outputs": [],
   "source": [
    "df_balanced['pre_text'] = df_balanced['text_summarized'].apply(text_cleaning)"
   ]
  },
  {
   "cell_type": "code",
   "execution_count": 79,
   "id": "9d1b2c39",
   "metadata": {},
   "outputs": [
    {
     "data": {
      "text/html": [
       "<div>\n",
       "<style scoped>\n",
       "    .dataframe tbody tr th:only-of-type {\n",
       "        vertical-align: middle;\n",
       "    }\n",
       "\n",
       "    .dataframe tbody tr th {\n",
       "        vertical-align: top;\n",
       "    }\n",
       "\n",
       "    .dataframe thead th {\n",
       "        text-align: right;\n",
       "    }\n",
       "</style>\n",
       "<table border=\"1\" class=\"dataframe\">\n",
       "  <thead>\n",
       "    <tr style=\"text-align: right;\">\n",
       "      <th></th>\n",
       "      <th>Body</th>\n",
       "      <th>Theme</th>\n",
       "      <th>text_summarized</th>\n",
       "      <th>pre_text</th>\n",
       "    </tr>\n",
       "  </thead>\n",
       "  <tbody>\n",
       "    <tr>\n",
       "      <th>17</th>\n",
       "      <td>A New York appeals court judge on Friday rejec...</td>\n",
       "      <td>politics</td>\n",
       "      <td>Trump’s legal team believes the appellate cour...</td>\n",
       "      <td>trump legal team belief appellate court could ...</td>\n",
       "    </tr>\n",
       "    <tr>\n",
       "      <th>18</th>\n",
       "      <td>President Joe Biden on Friday acknowledged he’...</td>\n",
       "      <td>politics</td>\n",
       "      <td>Biden this week used his White House appearanc...</td>\n",
       "      <td>biden week used white house appearance highlig...</td>\n",
       "    </tr>\n",
       "    <tr>\n",
       "      <th>19</th>\n",
       "      <td>Former House Speaker Kevin McCarthy is denying...</td>\n",
       "      <td>politics</td>\n",
       "      <td>Former House Speaker Kevin McCarthy is denying...</td>\n",
       "      <td>former house speaker kevin mccarthy denying re...</td>\n",
       "    </tr>\n",
       "    <tr>\n",
       "      <th>20</th>\n",
       "      <td>A former US Army sergeant who allegedly lived ...</td>\n",
       "      <td>politics</td>\n",
       "      <td>A former US Army sergeant who allegedly lived ...</td>\n",
       "      <td>former u army sergeant allegedly lived china s...</td>\n",
       "    </tr>\n",
       "    <tr>\n",
       "      <th>87</th>\n",
       "      <td>Supreme Court Justice Samuel Alito on Friday f...</td>\n",
       "      <td>politics</td>\n",
       "      <td>Supreme Court Justice Samuel Alito on Friday f...</td>\n",
       "      <td>supreme court justice samuel alito friday froz...</td>\n",
       "    </tr>\n",
       "  </tbody>\n",
       "</table>\n",
       "</div>"
      ],
      "text/plain": [
       "                                                 Body     Theme  \\\n",
       "17  A New York appeals court judge on Friday rejec...  politics   \n",
       "18  President Joe Biden on Friday acknowledged he’...  politics   \n",
       "19  Former House Speaker Kevin McCarthy is denying...  politics   \n",
       "20  A former US Army sergeant who allegedly lived ...  politics   \n",
       "87  Supreme Court Justice Samuel Alito on Friday f...  politics   \n",
       "\n",
       "                                      text_summarized  \\\n",
       "17  Trump’s legal team believes the appellate cour...   \n",
       "18  Biden this week used his White House appearanc...   \n",
       "19  Former House Speaker Kevin McCarthy is denying...   \n",
       "20  A former US Army sergeant who allegedly lived ...   \n",
       "87  Supreme Court Justice Samuel Alito on Friday f...   \n",
       "\n",
       "                                             pre_text  \n",
       "17  trump legal team belief appellate court could ...  \n",
       "18  biden week used white house appearance highlig...  \n",
       "19  former house speaker kevin mccarthy denying re...  \n",
       "20  former u army sergeant allegedly lived china s...  \n",
       "87  supreme court justice samuel alito friday froz...  "
      ]
     },
     "execution_count": 79,
     "metadata": {},
     "output_type": "execute_result"
    }
   ],
   "source": [
    "df_balanced.head()"
   ]
  },
  {
   "cell_type": "code",
   "execution_count": 81,
   "id": "168a23bf",
   "metadata": {},
   "outputs": [],
   "source": [
    "tokenizer = Tokenizer()\n",
    "tokenizer.fit_on_texts(df_balanced['pre_text'])\n",
    "seq = tokenizer.texts_to_sequences(df_balanced['pre_text'])"
   ]
  },
  {
   "cell_type": "code",
   "execution_count": 82,
   "id": "807ab171",
   "metadata": {},
   "outputs": [
    {
     "data": {
      "text/plain": [
       "12654"
      ]
     },
     "execution_count": 82,
     "metadata": {},
     "output_type": "execute_result"
    }
   ],
   "source": [
    "vocab_size = len(tokenizer.word_index) + 1\n",
    "vocab_size"
   ]
  },
  {
   "cell_type": "code",
   "execution_count": 83,
   "id": "df5b8438",
   "metadata": {},
   "outputs": [
    {
     "data": {
      "text/plain": [
       "152"
      ]
     },
     "execution_count": 83,
     "metadata": {},
     "output_type": "execute_result"
    }
   ],
   "source": [
    "maxlen = max([len(i) for i in seq])\n",
    "maxlen"
   ]
  },
  {
   "cell_type": "code",
   "execution_count": 84,
   "id": "693b638e",
   "metadata": {},
   "outputs": [],
   "source": [
    "pad_seq = pad_sequences(seq, maxlen = maxlen, padding = 'post')"
   ]
  },
  {
   "cell_type": "code",
   "execution_count": 86,
   "id": "62c8a4bc",
   "metadata": {},
   "outputs": [],
   "source": [
    "y = df_balanced['Theme']"
   ]
  },
  {
   "cell_type": "code",
   "execution_count": 88,
   "id": "975b9df0",
   "metadata": {},
   "outputs": [],
   "source": [
    "le = LabelEncoder()\n",
    "y_le = le.fit_transform(y)"
   ]
  },
  {
   "cell_type": "code",
   "execution_count": 89,
   "id": "d91df8ab",
   "metadata": {},
   "outputs": [],
   "source": [
    "X_train, X_test, y_train, y_test = train_test_split(pad_seq, y_le, test_size = 0.2, random_state = 101, shuffle = True, \n",
    "                                                   stratify = y_le)"
   ]
  },
  {
   "cell_type": "code",
   "execution_count": 90,
   "id": "6993cbbb",
   "metadata": {},
   "outputs": [
    {
     "data": {
      "text/plain": [
       "(1356, 152)"
      ]
     },
     "execution_count": 90,
     "metadata": {},
     "output_type": "execute_result"
    }
   ],
   "source": [
    "X_train.shape"
   ]
  },
  {
   "cell_type": "code",
   "execution_count": 91,
   "id": "60958028",
   "metadata": {},
   "outputs": [
    {
     "data": {
      "text/plain": [
       "(339, 152)"
      ]
     },
     "execution_count": 91,
     "metadata": {},
     "output_type": "execute_result"
    }
   ],
   "source": [
    "X_test.shape"
   ]
  },
  {
   "cell_type": "code",
   "execution_count": 93,
   "id": "2b653546",
   "metadata": {},
   "outputs": [],
   "source": [
    "glove_file = open('glove.6B.100d.txt', encoding = 'utf-8')\n",
    "embedding_matrix = dict()\n",
    "for line in glove_file:\n",
    "    record = line.split()\n",
    "    word = record[0]\n",
    "    vector = np.asarray(record[1:], dtype = 'float32')\n",
    "    embedding_matrix[word] = vector\n",
    "glove_file.close()"
   ]
  },
  {
   "cell_type": "code",
   "execution_count": 94,
   "id": "8daa053f",
   "metadata": {},
   "outputs": [],
   "source": [
    "embedding_vectors = np.zeros((vocab_size, 100))\n",
    "for word, index in tokenizer.word_index.items():\n",
    "    vec = embedding_matrix.get(word)\n",
    "    if vec is not None:\n",
    "        embedding_vectors[index] = vec"
   ]
  },
  {
   "cell_type": "code",
   "execution_count": 97,
   "id": "236e9137",
   "metadata": {},
   "outputs": [
    {
     "data": {
      "text/plain": [
       "3"
      ]
     },
     "execution_count": 97,
     "metadata": {},
     "output_type": "execute_result"
    }
   ],
   "source": [
    "classes = df_balanced['Theme'].nunique()\n",
    "classes"
   ]
  },
  {
   "cell_type": "code",
   "execution_count": 116,
   "id": "1d1b6cb8",
   "metadata": {},
   "outputs": [],
   "source": [
    "model = Sequential()"
   ]
  },
  {
   "cell_type": "code",
   "execution_count": 117,
   "id": "99383800",
   "metadata": {},
   "outputs": [],
   "source": [
    "model.add(Embedding(vocab_size, 100, embeddings_initializer = Constant(embedding_vectors), trainable = False))\n",
    "model.add(Conv1D(16, 3, padding = 'same', activation = 'relu'))\n",
    "model.add(MaxPooling1D(pool_size = 2))\n",
    "model.add(Dropout(0.4))\n",
    "model.add(Bidirectional(LSTM(5)))\n",
    "model.add(Dropout(0.4))\n",
    "model.add(Dense(classes, activation = 'softmax'))"
   ]
  },
  {
   "cell_type": "code",
   "execution_count": 118,
   "id": "44354ba1",
   "metadata": {},
   "outputs": [],
   "source": [
    "model.compile(\n",
    "    optimizer = 'adam',\n",
    "    loss = 'sparse_categorical_crossentropy',\n",
    "    metrics = ['accuracy']\n",
    ")"
   ]
  },
  {
   "cell_type": "code",
   "execution_count": 119,
   "id": "7614d165",
   "metadata": {},
   "outputs": [],
   "source": [
    "early_stopping = EarlyStopping(monitor = 'val_loss', patience = 2)"
   ]
  },
  {
   "cell_type": "code",
   "execution_count": 120,
   "id": "a78e39ad",
   "metadata": {},
   "outputs": [
    {
     "name": "stdout",
     "output_type": "stream",
     "text": [
      "Epoch 1/100\n",
      "\u001b[1m39/39\u001b[0m \u001b[32m━━━━━━━━━━━━━━━━━━━━\u001b[0m\u001b[37m\u001b[0m \u001b[1m6s\u001b[0m 56ms/step - accuracy: 0.3436 - loss: 1.1055 - val_accuracy: 0.6838 - val_loss: 1.0373\n",
      "Epoch 2/100\n",
      "\u001b[1m39/39\u001b[0m \u001b[32m━━━━━━━━━━━━━━━━━━━━\u001b[0m\u001b[37m\u001b[0m \u001b[1m2s\u001b[0m 47ms/step - accuracy: 0.5451 - loss: 1.0252 - val_accuracy: 0.7941 - val_loss: 0.9130\n",
      "Epoch 3/100\n",
      "\u001b[1m39/39\u001b[0m \u001b[32m━━━━━━━━━━━━━━━━━━━━\u001b[0m\u001b[37m\u001b[0m \u001b[1m2s\u001b[0m 49ms/step - accuracy: 0.6728 - loss: 0.9139 - val_accuracy: 0.8235 - val_loss: 0.7636\n",
      "Epoch 4/100\n",
      "\u001b[1m39/39\u001b[0m \u001b[32m━━━━━━━━━━━━━━━━━━━━\u001b[0m\u001b[37m\u001b[0m \u001b[1m2s\u001b[0m 48ms/step - accuracy: 0.7484 - loss: 0.7694 - val_accuracy: 0.8750 - val_loss: 0.5974\n",
      "Epoch 5/100\n",
      "\u001b[1m39/39\u001b[0m \u001b[32m━━━━━━━━━━━━━━━━━━━━\u001b[0m\u001b[37m\u001b[0m \u001b[1m2s\u001b[0m 49ms/step - accuracy: 0.8130 - loss: 0.6344 - val_accuracy: 0.8750 - val_loss: 0.5305\n",
      "Epoch 6/100\n",
      "\u001b[1m39/39\u001b[0m \u001b[32m━━━━━━━━━━━━━━━━━━━━\u001b[0m\u001b[37m\u001b[0m \u001b[1m2s\u001b[0m 54ms/step - accuracy: 0.8464 - loss: 0.5266 - val_accuracy: 0.8309 - val_loss: 0.5412\n",
      "Epoch 7/100\n",
      "\u001b[1m39/39\u001b[0m \u001b[32m━━━━━━━━━━━━━━━━━━━━\u001b[0m\u001b[37m\u001b[0m \u001b[1m2s\u001b[0m 52ms/step - accuracy: 0.8587 - loss: 0.4357 - val_accuracy: 0.8529 - val_loss: 0.4520\n",
      "Epoch 8/100\n",
      "\u001b[1m39/39\u001b[0m \u001b[32m━━━━━━━━━━━━━━━━━━━━\u001b[0m\u001b[37m\u001b[0m \u001b[1m2s\u001b[0m 49ms/step - accuracy: 0.8593 - loss: 0.4231 - val_accuracy: 0.8529 - val_loss: 0.4735\n",
      "Epoch 9/100\n",
      "\u001b[1m39/39\u001b[0m \u001b[32m━━━━━━━━━━━━━━━━━━━━\u001b[0m\u001b[37m\u001b[0m \u001b[1m2s\u001b[0m 51ms/step - accuracy: 0.9041 - loss: 0.3631 - val_accuracy: 0.8750 - val_loss: 0.3806\n",
      "Epoch 10/100\n",
      "\u001b[1m39/39\u001b[0m \u001b[32m━━━━━━━━━━━━━━━━━━━━\u001b[0m\u001b[37m\u001b[0m \u001b[1m2s\u001b[0m 49ms/step - accuracy: 0.9117 - loss: 0.3022 - val_accuracy: 0.8676 - val_loss: 0.3436\n",
      "Epoch 11/100\n",
      "\u001b[1m39/39\u001b[0m \u001b[32m━━━━━━━━━━━━━━━━━━━━\u001b[0m\u001b[37m\u001b[0m \u001b[1m2s\u001b[0m 50ms/step - accuracy: 0.9109 - loss: 0.3166 - val_accuracy: 0.8750 - val_loss: 0.3316\n",
      "Epoch 12/100\n",
      "\u001b[1m39/39\u001b[0m \u001b[32m━━━━━━━━━━━━━━━━━━━━\u001b[0m\u001b[37m\u001b[0m \u001b[1m2s\u001b[0m 49ms/step - accuracy: 0.9287 - loss: 0.2418 - val_accuracy: 0.8897 - val_loss: 0.3285\n",
      "Epoch 13/100\n",
      "\u001b[1m39/39\u001b[0m \u001b[32m━━━━━━━━━━━━━━━━━━━━\u001b[0m\u001b[37m\u001b[0m \u001b[1m2s\u001b[0m 59ms/step - accuracy: 0.9138 - loss: 0.2452 - val_accuracy: 0.8971 - val_loss: 0.2917\n",
      "Epoch 14/100\n",
      "\u001b[1m39/39\u001b[0m \u001b[32m━━━━━━━━━━━━━━━━━━━━\u001b[0m\u001b[37m\u001b[0m \u001b[1m2s\u001b[0m 50ms/step - accuracy: 0.9335 - loss: 0.2276 - val_accuracy: 0.8824 - val_loss: 0.4027\n",
      "Epoch 15/100\n",
      "\u001b[1m39/39\u001b[0m \u001b[32m━━━━━━━━━━━━━━━━━━━━\u001b[0m\u001b[37m\u001b[0m \u001b[1m2s\u001b[0m 52ms/step - accuracy: 0.9458 - loss: 0.2003 - val_accuracy: 0.8971 - val_loss: 0.3730\n"
     ]
    }
   ],
   "source": [
    "history = model.fit(X_train, y_train, epochs = 100, validation_split = 0.1, callbacks = [early_stopping])"
   ]
  },
  {
   "cell_type": "code",
   "execution_count": 121,
   "id": "3cec9ca1",
   "metadata": {},
   "outputs": [
    {
     "name": "stdout",
     "output_type": "stream",
     "text": [
      "\u001b[1m11/11\u001b[0m \u001b[32m━━━━━━━━━━━━━━━━━━━━\u001b[0m\u001b[37m\u001b[0m \u001b[1m0s\u001b[0m 11ms/step - accuracy: 0.8599 - loss: 0.4371\n"
     ]
    },
    {
     "data": {
      "text/plain": [
       "[0.3855167329311371, 0.8672566413879395]"
      ]
     },
     "execution_count": 121,
     "metadata": {},
     "output_type": "execute_result"
    }
   ],
   "source": [
    "model.evaluate(X_test, y_test)"
   ]
  },
  {
   "cell_type": "code",
   "execution_count": 122,
   "id": "feeebd85",
   "metadata": {},
   "outputs": [
    {
     "data": {
      "image/png": "[encoded data removed]",
      "text/plain": [
       "<Figure size 648x504 with 1 Axes>"
      ]
     },
     "metadata": {},
     "output_type": "display_data"
    }
   ],
   "source": [
    "plt.figure(figsize = (9, 7))\n",
    "plt.plot(history.history['accuracy'], label = 'Training Accuracy', color = 'teal')\n",
    "plt.plot(history.history['val_accuracy'], label = 'Validation Accuracy', color = 'orange')\n",
    "plt.title('Training Accuracy vs Validation Accuracy', fontsize = 20)\n",
    "plt.xlabel('Epochs', fontsize = 15)\n",
    "plt.ylabel('Accuracy', fontsize = 15)\n",
    "plt.legend()\n",
    "plt.show()"
   ]
  },
  {
   "cell_type": "code",
   "execution_count": 123,
   "id": "77e1b6b2",
   "metadata": {},
   "outputs": [
    {
     "data": {
      "image/png": "[encoded data removed]",
      "text/plain": [
       "<Figure size 648x504 with 1 Axes>"
      ]
     },
     "metadata": {},
     "output_type": "display_data"
    }
   ],
   "source": [
    "plt.figure(figsize = (9, 7))\n",
    "plt.plot(history.history['loss'], label = 'Training Loss', color = 'teal')\n",
    "plt.plot(history.history['val_loss'], label = 'Validation Loss', color = 'orange')\n",
    "plt.title('Training Loss vs Validation Loss', fontsize = 20)\n",
    "plt.xlabel('Epochs', fontsize = 15)\n",
    "plt.ylabel('Loss', fontsize = 15)\n",
    "plt.legend()\n",
    "plt.show()"
   ]
  },
  {
   "cell_type": "code",
   "execution_count": 124,
   "id": "e34f06fc",
   "metadata": {},
   "outputs": [
    {
     "name": "stdout",
     "output_type": "stream",
     "text": [
      "\u001b[1m11/11\u001b[0m \u001b[32m━━━━━━━━━━━━━━━━━━━━\u001b[0m\u001b[37m\u001b[0m \u001b[1m1s\u001b[0m 41ms/step\n"
     ]
    }
   ],
   "source": [
    "y_pred = model.predict(X_test)"
   ]
  },
  {
   "cell_type": "code",
   "execution_count": 127,
   "id": "68fc2e22",
   "metadata": {},
   "outputs": [],
   "source": [
    "y_p = [np.argmax(i) for i in y_pred]"
   ]
  },
  {
   "cell_type": "code",
   "execution_count": 129,
   "id": "a0a848c7",
   "metadata": {},
   "outputs": [
    {
     "name": "stdout",
     "output_type": "stream",
     "text": [
      "              precision    recall  f1-score   support\n",
      "\n",
      "           0       0.86      0.87      0.86       113\n",
      "           1       0.91      0.88      0.90       113\n",
      "           2       0.83      0.85      0.84       113\n",
      "\n",
      "    accuracy                           0.87       339\n",
      "   macro avg       0.87      0.87      0.87       339\n",
      "weighted avg       0.87      0.87      0.87       339\n",
      "\n"
     ]
    }
   ],
   "source": [
    "print(classification_report(y_test, y_p))"
   ]
  },
  {
   "cell_type": "code",
   "execution_count": 131,
   "id": "162d1c58",
   "metadata": {},
   "outputs": [
    {
     "data": {
      "image/png": "[encoded data removed]",
      "text/plain": [
       "<Figure size 648x504 with 2 Axes>"
      ]
     },
     "metadata": {},
     "output_type": "display_data"
    }
   ],
   "source": [
    "plt.figure(figsize = (9, 7))\n",
    "sns.heatmap(confusion_matrix(y_test, y_p), annot = True, square = True, cbar = True, annot_kws = {'size': 20}, fmt = 'd',\n",
    "           cmap = 'Blues')\n",
    "plt.title('Confusion Matrix', fontsize = 20)\n",
    "plt.xlabel('Predicted', fontsize = 15)\n",
    "plt.ylabel('Truth', fontsize = 15)\n",
    "plt.show()"
   ]
  }
 ],
 "metadata": {
  "kernelspec": {
   "display_name": "Python 3 (ipykernel)",
   "language": "python",
   "name": "python3"
  },
  "language_info": {
   "codemirror_mode": {
    "name": "ipython",
    "version": 3
   },
   "file_extension": ".py",
   "mimetype": "text/x-python",
   "name": "python",
   "nbconvert_exporter": "python",
   "pygments_lexer": "ipython3",
   "version": "3.10.5"
  }
 },
 "nbformat": 4,
 "nbformat_minor": 5
}
